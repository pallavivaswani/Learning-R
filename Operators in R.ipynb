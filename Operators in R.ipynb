{
 "cells": [
  {
   "cell_type": "markdown",
   "metadata": {},
   "source": [
    "# Operators in R\n",
    "### Types of operators-\n",
    "#### 1. Arithmetic Operators"
   ]
  },
  {
   "cell_type": "code",
   "execution_count": 1,
   "metadata": {},
   "outputs": [
    {
     "name": "stdout",
     "output_type": "stream",
     "text": [
      "[1] 11.0  7.5 12.0\n"
     ]
    }
   ],
   "source": [
    "# +  Adds Two vectors \n",
    "v<-c(3, 4.5, 8)\n",
    "t<-c(8, 3, 4) \n",
    "print(v+t)"
   ]
  },
  {
   "cell_type": "code",
   "execution_count": 2,
   "metadata": {},
   "outputs": [
    {
     "name": "stdout",
     "output_type": "stream",
     "text": [
      "[1] -5.0  1.5  4.0\n"
     ]
    }
   ],
   "source": [
    " # - Subtracts second vector from first\n",
    "v <- c( 3,4.5,8) \n",
    "t <- c(8, 3, 4) \n",
    "print(v-t)"
   ]
  },
  {
   "cell_type": "code",
   "execution_count": 3,
   "metadata": {},
   "outputs": [
    {
     "name": "stdout",
     "output_type": "stream",
     "text": [
      "[1] 24.0 13.5 32.0\n"
     ]
    }
   ],
   "source": [
    " # * Multiplies two vectors\n",
    "v <- c( 3,4.5,8) \n",
    "t <- c(8, 3, 4) \n",
    "print(v*t)"
   ]
  },
  {
   "cell_type": "code",
   "execution_count": 4,
   "metadata": {},
   "outputs": [
    {
     "name": "stdout",
     "output_type": "stream",
     "text": [
      "[1] 0.375 1.500 2.000\n"
     ]
    }
   ],
   "source": [
    " # /  Divides first vector with second\n",
    "v <- c( 3,4.5,8) \n",
    "t <- c(8, 3, 4) \n",
    "print(v/t)"
   ]
  },
  {
   "cell_type": "code",
   "execution_count": 5,
   "metadata": {},
   "outputs": [
    {
     "name": "stdout",
     "output_type": "stream",
     "text": [
      "[1] 3.0 1.5 0.0\n"
     ]
    }
   ],
   "source": [
    "# %%  Give the remainder of the first vector with the second\n",
    "v <- c( 3,4.5,8) \n",
    "t <- c(8, 3, 4) \n",
    "print(v%%t)"
   ]
  },
  {
   "cell_type": "code",
   "execution_count": 6,
   "metadata": {},
   "outputs": [
    {
     "name": "stdout",
     "output_type": "stream",
     "text": [
      "[1] 0 1 2\n"
     ]
    }
   ],
   "source": [
    "# %/%  The result of division of first vector with second (quotient)\n",
    "v <- c( 3,4.5,8) \n",
    "t <- c(8, 3, 4) \n",
    "print(v%/%t)"
   ]
  },
  {
   "cell_type": "code",
   "execution_count": 7,
   "metadata": {},
   "outputs": [
    {
     "name": "stdout",
     "output_type": "stream",
     "text": [
      "[1] 6561.000   91.125 4096.000\n"
     ]
    }
   ],
   "source": [
    "# ^ Gives The first vector raised to the exponent of second vector \n",
    "v <- c( 3,4.5,8) \n",
    "t <- c(8, 3, 4) \n",
    "print(v^t)"
   ]
  },
  {
   "cell_type": "markdown",
   "metadata": {},
   "source": [
    "#### 2. Relational Operators\n",
    "<br>\n",
    "Each element of the first vector is compared with the corresponding element of the second vector. The result of comparison is a Boolean value."
   ]
  },
  {
   "cell_type": "code",
   "execution_count": 8,
   "metadata": {},
   "outputs": [
    {
     "name": "stdout",
     "output_type": "stream",
     "text": [
      "[1]  TRUE FALSE FALSE\n"
     ]
    }
   ],
   "source": [
    "#  < Checks if each element of the first vector is less than the corresponding element of the second vector \n",
    "v <- c( 3,4.5,8) \n",
    "t <- c(8, 3, 4) \n",
    "print(v<t)"
   ]
  },
  {
   "cell_type": "code",
   "execution_count": 9,
   "metadata": {},
   "outputs": [
    {
     "name": "stdout",
     "output_type": "stream",
     "text": [
      "[1] FALSE  TRUE  TRUE\n"
     ]
    }
   ],
   "source": [
    "# > Checks if each element of the first vector is greater than the corresponding element of the second vector\n",
    "v <- c( 3,4.5,8) \n",
    "t <- c(8, 3, 4) \n",
    "print(v>t)"
   ]
  },
  {
   "cell_type": "code",
   "execution_count": 10,
   "metadata": {},
   "outputs": [
    {
     "name": "stdout",
     "output_type": "stream",
     "text": [
      "[1] FALSE FALSE FALSE\n"
     ]
    }
   ],
   "source": [
    "# == Checks if each element of the first vector is equal to the corresponding element of the second vector\n",
    "v <- c( 3,4.5,8) \n",
    "t <- c(8, 3, 4) \n",
    "print(v==t)"
   ]
  },
  {
   "cell_type": "code",
   "execution_count": 11,
   "metadata": {},
   "outputs": [
    {
     "name": "stdout",
     "output_type": "stream",
     "text": [
      "[1]  TRUE FALSE FALSE\n"
     ]
    }
   ],
   "source": [
    "# <= Checks if each element of the first vector is less than or equal to the corresponding element of the second vector\n",
    "v <- c( 3,4.5,8) \n",
    "t <- c(8, 3, 4) \n",
    "print(v<=t)"
   ]
  },
  {
   "cell_type": "code",
   "execution_count": 12,
   "metadata": {},
   "outputs": [
    {
     "name": "stdout",
     "output_type": "stream",
     "text": [
      "[1] FALSE  TRUE  TRUE\n"
     ]
    }
   ],
   "source": [
    "#  >= Checks if each element of the first vector is less than or equal to the corresponding element of the second vector\n",
    "v <- c( 3,4.5,8) \n",
    "t <- c(8, 3, 4) \n",
    "print(v>=t)"
   ]
  },
  {
   "cell_type": "code",
   "execution_count": 13,
   "metadata": {},
   "outputs": [
    {
     "name": "stdout",
     "output_type": "stream",
     "text": [
      "[1] TRUE TRUE TRUE\n"
     ]
    }
   ],
   "source": [
    "#  != Checks if each element of the first vector is not equal to the corresponding element of the second vector\n",
    "v <- c( 3,4.5,8) \n",
    "t <- c(8, 3, 4) \n",
    "print(v!=t)"
   ]
  },
  {
   "cell_type": "markdown",
   "metadata": {},
   "source": [
    "#### 3. Logical Operators\n",
    "<br/>\n",
    "These operators are applicable only to vectors of type logical, numeric or complex. All numbers greater than 1 are considered as logical value TRUE.\n",
    "Each element of the first vector is compared with the corresponding element of the second vector. The result of comparison is a Boolean value."
   ]
  },
  {
   "cell_type": "code",
   "execution_count": 14,
   "metadata": {},
   "outputs": [
    {
     "name": "stdout",
     "output_type": "stream",
     "text": [
      "[1]  TRUE  TRUE FALSE  TRUE\n"
     ]
    }
   ],
   "source": [
    "# &  It is called Element-wise Logical AND operator. \n",
    "# It combines each element of the first vector with the corresponding element of the second vector \n",
    "# and gives a output TRUE if both the elements are TRUE\n",
    "v <- c( 3, 1, TRUE, 8+6i) \n",
    "t <- c( 4, 1, FALSE, 2+3i) \n",
    "print(v&t)"
   ]
  },
  {
   "cell_type": "code",
   "execution_count": 15,
   "metadata": {},
   "outputs": [
    {
     "name": "stdout",
     "output_type": "stream",
     "text": [
      "[1]  TRUE FALSE FALSE  TRUE\n"
     ]
    }
   ],
   "source": [
    "# | It is called Element-wise Logical OR operator. \n",
    "# It combines each element of the first vector with the corresponding element of the second vector \n",
    "# and gives a output TRUE if one the elements is TRUE\n",
    "v <- c( 3, 0, TRUE, 8+6i) \n",
    "t <- c( 4, 0, FALSE, 2+3i) \n",
    "print(v&t)"
   ]
  },
  {
   "cell_type": "code",
   "execution_count": 16,
   "metadata": {},
   "outputs": [
    {
     "name": "stdout",
     "output_type": "stream",
     "text": [
      "[1] FALSE  TRUE FALSE FALSE\n"
     ]
    }
   ],
   "source": [
    "# !  It is called Element-wise Logical OR operator. \n",
    "# It combines each element of the first vector with the corresponding element of the second vector\n",
    "#and gives a output TRUE if one the elements is TRUE\n",
    "v <- c( 3, 0, TRUE, 8+6i) \n",
    "print(!v)"
   ]
  },
  {
   "cell_type": "code",
   "execution_count": 17,
   "metadata": {},
   "outputs": [
    {
     "name": "stdout",
     "output_type": "stream",
     "text": [
      "[1] TRUE\n"
     ]
    }
   ],
   "source": [
    "# && Called as the Logical AND operator.\n",
    "# Takes first element of both the vectors and <br/> gives the TRUE only if both are TRUE\n",
    "v <- c( 3, 0, TRUE, 8+6i) \n",
    "t <- c( 1, 3, FALSE, 2+3i)\n",
    "print(v&&t)"
   ]
  },
  {
   "cell_type": "code",
   "execution_count": 18,
   "metadata": {},
   "outputs": [
    {
     "name": "stdout",
     "output_type": "stream",
     "text": [
      "[1] FALSE\n"
     ]
    }
   ],
   "source": [
    "# || Called as the Logical OR operator. \n",
    "#Takes first element of both the vectors and <br/> gives the TRUE if one of them is TRUE\n",
    "v <- c( 0, 0, TRUE, 8+6i) \n",
    "t <- c( 0, 3, FALSE, 2+3i) \n",
    "print(v||t)"
   ]
  },
  {
   "cell_type": "markdown",
   "metadata": {},
   "source": [
    "#### 4. Assignment Operators\n",
    "<br>\n",
    "These operators are used for assigning values to vectors"
   ]
  },
  {
   "cell_type": "code",
   "execution_count": 19,
   "metadata": {},
   "outputs": [
    {
     "name": "stdout",
     "output_type": "stream",
     "text": [
      "[1] 3+0i 1+0i 1+0i 2+3i\n",
      "[1] 3+0i 1+0i 1+0i 2+3i\n",
      "[1] 3+0i 1+0i 1+0i 2+3i\n"
     ]
    }
   ],
   "source": [
    "# <− or = or <<− Left Assignment\n",
    "v1 <- c(3,1,TRUE,2+3i)\n",
    "v2 <<- c(3,1,TRUE,2+3i) \n",
    "v3 = c(3,1,TRUE,2+3i) \n",
    "print(v1) \n",
    "print(v2)\n",
    "print(v3)"
   ]
  },
  {
   "cell_type": "code",
   "execution_count": 20,
   "metadata": {},
   "outputs": [
    {
     "name": "stdout",
     "output_type": "stream",
     "text": [
      "[1] 3+0i 1+0i 1+0i 2+3i\n",
      "[1] 3+0i 1+0i 1+0i 2+3i\n"
     ]
    }
   ],
   "source": [
    "#  −> or −>>  Right Assignment \n",
    "v1 <- c(3,1,TRUE,2+3i) \n",
    "v2 <<- c(3,1,TRUE,2+3i) \n",
    "print(v1)\n",
    "print(v2)"
   ]
  },
  {
   "cell_type": "markdown",
   "metadata": {},
   "source": [
    "#### 5. Miscellaneous\n",
    "<br>\n",
    "Given below are a few more operators used for specific purpose and not general mathematical or logical computation"
   ]
  },
  {
   "cell_type": "code",
   "execution_count": 21,
   "metadata": {},
   "outputs": [
    {
     "name": "stdout",
     "output_type": "stream",
     "text": [
      "[1]  5  6  7  8  9 10\n"
     ]
    }
   ],
   "source": [
    "# : Colon operator creates the series of numbers in sequence for a vector \n",
    "v <- 5:10 \n",
    "print(v)"
   ]
  },
  {
   "cell_type": "code",
   "execution_count": 22,
   "metadata": {},
   "outputs": [
    {
     "name": "stdout",
     "output_type": "stream",
     "text": [
      "[1] TRUE\n",
      "[1] FALSE\n"
     ]
    }
   ],
   "source": [
    "# %in%  operator is used to identify if an element belongs to a vector \n",
    "v1 <-6\n",
    "v2 <- 13 \n",
    "t <- 1:10 \n",
    "print(v1 %in% t) \n",
    "print(v2 %in% t)"
   ]
  }
 ],
 "metadata": {
  "kernelspec": {
   "display_name": "R",
   "language": "R",
   "name": "ir"
  },
  "language_info": {
   "codemirror_mode": "r",
   "file_extension": ".r",
   "mimetype": "text/x-r-source",
   "name": "R",
   "pygments_lexer": "r",
   "version": "3.6.1"
  }
 },
 "nbformat": 4,
 "nbformat_minor": 4
}
